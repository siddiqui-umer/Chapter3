{
 "cells": [
  {
   "cell_type": "markdown",
   "metadata": {},
   "source": [
    "# 3.1"
   ]
  },
  {
   "cell_type": "code",
   "execution_count": 4,
   "metadata": {},
   "outputs": [
    {
     "name": "stdout",
     "output_type": "stream",
     "text": [
      "Enter the temperature in degree Fahrenheit : 50\n",
      "The temperature in degree Celcius is 10.0\n"
     ]
    }
   ],
   "source": [
    "fahrenheit = int(input(\"Enter the temperature in degree Fahrenheit : \"))\n",
    "celcius =5/9 * (fahrenheit - 32)    \n",
    "print(\"The temperature in degree Celcius is\",celcius)"
   ]
  },
  {
   "cell_type": "markdown",
   "metadata": {},
   "source": [
    "# 3.2"
   ]
  },
  {
   "cell_type": "code",
   "execution_count": 6,
   "metadata": {},
   "outputs": [
    {
     "name": "stdout",
     "output_type": "stream",
     "text": [
      "Enter your age : 63\n",
      "You can get pension benefits.\n",
      "\n",
      "Enter Name : Ruth\n",
      "One of the top 5 basebal players, ever !\n",
      "\n",
      "Enter hits : 15\n",
      "Enter remaining shield : 0\n",
      "You are dead.....\n",
      "\n",
      "I can escape\n"
     ]
    }
   ],
   "source": [
    "#PART A\n",
    "age = int(input(\"Enter your age : \"))\n",
    "if age >= 62:\n",
    "    print (\"You can get pension benefits.\")\n",
    "\n",
    "print(\"\")\n",
    "\n",
    "#PART B\n",
    "lst = [\"Musial\",\"Aaron\",\"Williams\",\"Gehrig\",\"Ruth\"]\n",
    "name = input(\"Enter Name : \")\n",
    "if name in lst:\n",
    "    print(\"One of the top 5 basebal players, ever !\")\n",
    "\n",
    "print(\"\")\n",
    "\n",
    "#PART C\n",
    "hits = int(input(\"Enter hits : \"))\n",
    "shield = int(input(\"Enter remaining shield : \"))\n",
    "if hits > 10 and shield == 0:\n",
    "    print (\"You are dead.....\")\n",
    "\n",
    "print(\"\")\n",
    "\n",
    "#PART D\n",
    "north = False\n",
    "south = True\n",
    "east = False\n",
    "West = False\n",
    "\n",
    "if north or south or east or west :\n",
    "    print (\"I can escape\")"
   ]
  },
  {
   "cell_type": "markdown",
   "metadata": {},
   "source": [
    "\n",
    "\n",
    "# 3.3"
   ]
  },
  {
   "cell_type": "code",
   "execution_count": 7,
   "metadata": {},
   "outputs": [
    {
     "name": "stdout",
     "output_type": "stream",
     "text": [
      "Enter year : 2204\n",
      "Could be a leap year.\n",
      "\n",
      "You won! \n"
     ]
    }
   ],
   "source": [
    "#PART A\n",
    "year = int(input(\"Enter year : \"))\n",
    "if year%4 == 0:\n",
    "    print(\"Could be a leap year.\\n\")\n",
    "else :\n",
    "    print(\"Definately not a leap year.\\n\")\n",
    "    \n",
    "#PART B\n",
    "lottery = [86 , 37]\n",
    "ticket = [86 , 37]\n",
    "if lottery == ticket:\n",
    "    print(\"You won! \")\n",
    "else:\n",
    "    print(\"Better luck next time....\")"
   ]
  },
  {
   "cell_type": "markdown",
   "metadata": {},
   "source": [
    "# 3.5"
   ]
  },
  {
   "cell_type": "code",
   "execution_count": 1,
   "metadata": {},
   "outputs": [
    {
     "name": "stdout",
     "output_type": "stream",
     "text": [
      "Enter word list : ['stop','desktop','top','post']\n",
      "stop\n",
      "post\n"
     ]
    }
   ],
   "source": [
    "lst = eval(input(\"Enter word list : \"))\n",
    "for i in lst:\n",
    "    if len(i) == 4:\n",
    "        print(i)"
   ]
  },
  {
   "cell_type": "markdown",
   "metadata": {},
   "source": [
    "# 3.6"
   ]
  },
  {
   "cell_type": "code",
   "execution_count": 8,
   "metadata": {},
   "outputs": [
    {
     "name": "stdout",
     "output_type": "stream",
     "text": [
      "0\n",
      "1\n",
      "2\n",
      "3\n",
      "4\n",
      "5\n",
      "6\n",
      "7\n",
      "8\n",
      "9\n",
      "\n",
      "0\n",
      "1\n"
     ]
    }
   ],
   "source": [
    "#PART A\n",
    "for i in range(10):\n",
    "    print(i)\n",
    "\n",
    "print(\"\")\n",
    "\n",
    "#PART B\n",
    "for j in range(2):\n",
    "    print(j)"
   ]
  },
  {
   "cell_type": "markdown",
   "metadata": {},
   "source": [
    "# 3.7"
   ]
  },
  {
   "cell_type": "code",
   "execution_count": 9,
   "metadata": {},
   "outputs": [
    {
     "name": "stdout",
     "output_type": "stream",
     "text": [
      "2\n",
      "3\n",
      "4\n",
      "5\n",
      "6\n",
      "7\n",
      "8\n",
      "9\n",
      "10\n",
      "11\n",
      "12\n",
      "\n",
      "0\n",
      "2\n",
      "4\n",
      "6\n",
      "8\n",
      "\n",
      "0\n",
      "3\n",
      "6\n",
      "9\n",
      "12\n",
      "15\n",
      "18\n",
      "21\n",
      "\n",
      "3\n",
      "8\n"
     ]
    }
   ],
   "source": [
    "#PART A\n",
    "for i in range(2,13):\n",
    "    print(i)\n",
    "\n",
    "print(\"\")\n",
    "\n",
    "#PART B\n",
    "for j in range(0, 9, 2):\n",
    "    print(j)\n",
    "    \n",
    "print(\"\")\n",
    "\n",
    "#PART C\n",
    "for k in range(0, 24, 3):\n",
    "    print(k)\n",
    "\n",
    "print(\"\")\n",
    "\n",
    "#PART D\n",
    "for l in range(3, 12, 5):\n",
    "    print(l)"
   ]
  },
  {
   "cell_type": "markdown",
   "metadata": {},
   "source": [
    "# 3.8"
   ]
  },
  {
   "cell_type": "code",
   "execution_count": 16,
   "metadata": {},
   "outputs": [
    {
     "data": {
      "text/plain": [
       "6.283185307179586"
      ]
     },
     "execution_count": 16,
     "metadata": {},
     "output_type": "execute_result"
    }
   ],
   "source": [
    "from math import pi\n",
    "def perimeter(radius):\n",
    "    'This function returns perimeter of a circle. SYNTAX: perimeter(radius)'\n",
    "    if radius > 0:\n",
    "        return 2*pi*radius\n",
    "\n",
    "\n",
    "perimeter(1)"
   ]
  },
  {
   "cell_type": "markdown",
   "metadata": {},
   "source": [
    "# 3.9"
   ]
  },
  {
   "cell_type": "code",
   "execution_count": 15,
   "metadata": {},
   "outputs": [
    {
     "data": {
      "text/plain": [
       "6.0"
      ]
     },
     "execution_count": 15,
     "metadata": {},
     "output_type": "execute_result"
    }
   ],
   "source": [
    "def average(num1,num2):\n",
    "    'This function returns the average of two integers.SYNTAX: average(num1,num2)'\n",
    "    avg = (num1+num2)/2\n",
    "    return avg\n",
    "\n",
    "\n",
    "average(5, 7)"
   ]
  },
  {
   "cell_type": "markdown",
   "metadata": {},
   "source": [
    "# 3.10"
   ]
  },
  {
   "cell_type": "code",
   "execution_count": 17,
   "metadata": {},
   "outputs": [
    {
     "data": {
      "text/plain": [
       "False"
      ]
     },
     "execution_count": 17,
     "metadata": {},
     "output_type": "execute_result"
    }
   ],
   "source": [
    "def noVowel(string):\n",
    "    'Returns whether the string has vowels or not. SYNTAX: noVowel(string)'\n",
    "    for i in string:\n",
    "        if i in 'aeiouAEIOU':\n",
    "                return False\n",
    "        else:\n",
    "            return True\n",
    "\n",
    "noVowel(\"umer\")"
   ]
  },
  {
   "cell_type": "markdown",
   "metadata": {},
   "source": [
    "# 3.11"
   ]
  },
  {
   "cell_type": "code",
   "execution_count": 18,
   "metadata": {},
   "outputs": [
    {
     "data": {
      "text/plain": [
       "True"
      ]
     },
     "execution_count": 18,
     "metadata": {},
     "output_type": "execute_result"
    }
   ],
   "source": [
    "def allEven(lst):\n",
    "    'Returns if the list contains all even numbers. '\n",
    "    for i in lst:\n",
    "        if i%2 == 0:\n",
    "            return True\n",
    "        else:\n",
    "            return False\n",
    "\n",
    "allEven([8,0,-2,4,-6,10])"
   ]
  },
  {
   "cell_type": "markdown",
   "metadata": {},
   "source": [
    "# 3.12"
   ]
  },
  {
   "cell_type": "code",
   "execution_count": 23,
   "metadata": {},
   "outputs": [
    {
     "data": {
      "text/plain": [
       "-3"
      ]
     },
     "execution_count": 23,
     "metadata": {},
     "output_type": "execute_result"
    }
   ],
   "source": [
    "def negatives(lst):\n",
    "    'Returns all the negative integers from the list of numbers.'\n",
    "    for i in lst:\n",
    "        if i%2 != 0:\n",
    "            return i\n",
    "\n",
    "negatives([8,0,-3,4,6,10])"
   ]
  },
  {
   "cell_type": "markdown",
   "metadata": {},
   "source": [
    "# 3.13"
   ]
  },
  {
   "cell_type": "code",
   "execution_count": 24,
   "metadata": {},
   "outputs": [
    {
     "name": "stdout",
     "output_type": "stream",
     "text": [
      "Help on function average in module __main__:\n",
      "\n",
      "average(num1, num2)\n",
      "    This function returns the average of two integers.SYNTAX: average(num1,num2)\n",
      "\n",
      "Help on function negatives in module __main__:\n",
      "\n",
      "negatives(lst)\n",
      "    Returns all the negative integers from the list of numbers.\n",
      "\n"
     ]
    }
   ],
   "source": [
    "help(average)\n",
    "help(negatives)"
   ]
  },
  {
   "cell_type": "markdown",
   "metadata": {},
   "source": [
    "# 3.14"
   ]
  },
  {
   "cell_type": "code",
   "execution_count": 25,
   "metadata": {},
   "outputs": [
    {
     "name": "stdout",
     "output_type": "stream",
     "text": [
      "3\n"
     ]
    }
   ],
   "source": [
    "a = [5,6,7]\n",
    "b = a\n",
    "a = 3\n",
    "print(a)"
   ]
  },
  {
   "cell_type": "markdown",
   "metadata": {},
   "source": [
    "# 3.15"
   ]
  },
  {
   "cell_type": "code",
   "execution_count": 28,
   "metadata": {},
   "outputs": [
    {
     "name": "stdout",
     "output_type": "stream",
     "text": [
      "['Ava', 'Eleanor', 'Clare', 'Sarah']\n",
      "['Sarah', 'Eleanor', 'Clare', 'Ava']\n"
     ]
    }
   ],
   "source": [
    "team = ['Ava' , 'Eleanor' , 'Clare' , 'Sarah']\n",
    "print(team)\n",
    "\n",
    "team2 = team[0]\n",
    "team[0] = team[-1]\n",
    "team[-1] = team2\n",
    "\n",
    "print(team)"
   ]
  },
  {
   "cell_type": "markdown",
   "metadata": {},
   "source": [
    "# 3.16"
   ]
  },
  {
   "cell_type": "code",
   "execution_count": null,
   "metadata": {},
   "outputs": [],
   "source": [
    "def swapFL(ingredients):\n",
    "    'This function just swaps the first n last items in the list'\n",
    "    ingredients2 = ingredients[0]\n",
    "    ingredients[0] = ingredients[-1]\n",
    "    ingredients[-1] = ingredients2\n",
    "    print(ingredients)\n",
    "\n",
    "swapFL(['flour','sugar','butter','apples'])"
   ]
  },
  {
   "cell_type": "markdown",
   "metadata": {},
   "source": [
    "# 3.17"
   ]
  },
  {
   "cell_type": "code",
   "execution_count": 30,
   "metadata": {},
   "outputs": [
    {
     "name": "stdout",
     "output_type": "stream",
     "text": [
      "7\n",
      "Hello world!\n",
      "2\n"
     ]
    },
    {
     "ename": "NameError",
     "evalue": "name 'hello' is not defined",
     "output_type": "error",
     "traceback": [
      "\u001b[1;31m---------------------------------------------------------------------------\u001b[0m",
      "\u001b[1;31mNameError\u001b[0m                                 Traceback (most recent call last)",
      "\u001b[1;32m<ipython-input-30-2dcc9430437e>\u001b[0m in \u001b[0;36m<module>\u001b[1;34m\u001b[0m\n\u001b[0;32m      8\u001b[0m \u001b[0mprint\u001b[0m\u001b[1;33m(\u001b[0m\u001b[0ms4\u001b[0m\u001b[1;33m)\u001b[0m\u001b[1;33m\u001b[0m\u001b[1;33m\u001b[0m\u001b[0m\n\u001b[0;32m      9\u001b[0m \u001b[1;33m\u001b[0m\u001b[0m\n\u001b[1;32m---> 10\u001b[1;33m \u001b[0ms2\u001b[0m \u001b[1;33m=\u001b[0m \u001b[0meval\u001b[0m\u001b[1;33m(\u001b[0m\u001b[1;34m'hello'\u001b[0m\u001b[1;33m)\u001b[0m\u001b[1;33m\u001b[0m\u001b[1;33m\u001b[0m\u001b[0m\n\u001b[0m\u001b[0;32m     11\u001b[0m \u001b[0mprint\u001b[0m\u001b[1;33m(\u001b[0m\u001b[0ms2\u001b[0m\u001b[1;33m)\u001b[0m\u001b[1;33m\u001b[0m\u001b[1;33m\u001b[0m\u001b[0m\n\u001b[0;32m     12\u001b[0m \u001b[1;31m#Error occurs because 'hello' is neither an expression nor has been assigned any value\u001b[0m\u001b[1;33m\u001b[0m\u001b[1;33m\u001b[0m\u001b[1;33m\u001b[0m\u001b[0m\n",
      "\u001b[1;32m<string>\u001b[0m in \u001b[0;36m<module>\u001b[1;34m\u001b[0m\n",
      "\u001b[1;31mNameError\u001b[0m: name 'hello' is not defined"
     ]
    }
   ],
   "source": [
    "s1 = eval('2*3+1')\n",
    "print(s1)\n",
    "\n",
    "s3 = eval(\"'Hello' + ' ' + 'world!'\")\n",
    "print(s3)\n",
    "\n",
    "s4 = eval(\"'ASCII'.count('I')\")\n",
    "print(s4)\n",
    "\n",
    "s2 = eval('hello')\n",
    "print(s2)\n",
    "#Error occurs because 'hello' is neither an expression nor has been assigned any value\n"
   ]
  },
  {
   "cell_type": "code",
   "execution_count": 31,
   "metadata": {},
   "outputs": [
    {
     "ename": "SyntaxError",
     "evalue": "invalid syntax (<string>, line 1)",
     "output_type": "error",
     "traceback": [
      "Traceback \u001b[1;36m(most recent call last)\u001b[0m:\n",
      "  File \u001b[0;32m\"C:\\Users\\adnan.siddiqui\\AppData\\Local\\Continuum\\anaconda3\\lib\\site-packages\\IPython\\core\\interactiveshell.py\"\u001b[0m, line \u001b[0;32m3326\u001b[0m, in \u001b[0;35mrun_code\u001b[0m\n    exec(code_obj, self.user_global_ns, self.user_ns)\n",
      "\u001b[1;36m  File \u001b[1;32m\"<ipython-input-31-70f38ab89d29>\"\u001b[1;36m, line \u001b[1;32m1\u001b[1;36m, in \u001b[1;35m<module>\u001b[1;36m\u001b[0m\n\u001b[1;33m    s5 = eval('x = 5')\u001b[0m\n",
      "\u001b[1;36m  File \u001b[1;32m\"<string>\"\u001b[1;36m, line \u001b[1;32m1\u001b[0m\n\u001b[1;33m    x = 5\u001b[0m\n\u001b[1;37m      ^\u001b[0m\n\u001b[1;31mSyntaxError\u001b[0m\u001b[1;31m:\u001b[0m invalid syntax\n"
     ]
    }
   ],
   "source": [
    "s5 = eval('x = 5')\n",
    "print(s5)\n",
    "#Error occurs because we cannot assign a value to any variable inside 'eval()' function"
   ]
  },
  {
   "cell_type": "markdown",
   "metadata": {},
   "source": [
    "# 3.18"
   ]
  },
  {
   "cell_type": "code",
   "execution_count": 32,
   "metadata": {},
   "outputs": [
    {
     "name": "stdout",
     "output_type": "stream",
     "text": [
      "1. OK\n",
      "4. OK\n"
     ]
    }
   ],
   "source": [
    "a,b,c = 3,4,5\n",
    "\n",
    "#PART A\n",
    "\n",
    "if a<b :\n",
    "    print(\"1. OK\")\n",
    "\n",
    "#PART B\n",
    "\n",
    "if c<b :\n",
    "    print(\"2. OK\")\n",
    "\n",
    "#PART C\n",
    "\n",
    "if a+b == c :\n",
    "    print(\"3. OK\")\n",
    "\n",
    "#PART D\n",
    "\n",
    "if a**2 + b**2 == c**2 :\n",
    "    print(\"4. OK\")\n"
   ]
  },
  {
   "cell_type": "markdown",
   "metadata": {},
   "source": [
    "# 3.19"
   ]
  },
  {
   "cell_type": "code",
   "execution_count": 34,
   "metadata": {},
   "outputs": [
    {
     "name": "stdout",
     "output_type": "stream",
     "text": [
      "OK\n",
      "NOT OK\n",
      "NOT OK\n",
      "OK\n"
     ]
    }
   ],
   "source": [
    "a,b,c = 3,4,5\n",
    "\n",
    "#PART A\n",
    "\n",
    "if a<b :\n",
    "    print(\"OK\")\n",
    "else:\n",
    "    print(\"NOT OK\")\n",
    "\n",
    "#PART B\n",
    "\n",
    "if c<b :\n",
    "    print(\"OK\")\n",
    "else:\n",
    "    print(\"NOT OK\")\n",
    "\n",
    "#PART C\n",
    "\n",
    "if a+b == c :\n",
    "    print(\"OK\")\n",
    "else:\n",
    "    print(\"NOT OK\")\n",
    "\n",
    "#PART D\n",
    "\n",
    "if a**2 + b**2 == c**2 :\n",
    "    print(\"OK\")\n",
    "else:\n",
    "    print(\"NOT OK\")\n"
   ]
  },
  {
   "cell_type": "markdown",
   "metadata": {},
   "source": [
    "# 3.20"
   ]
  },
  {
   "cell_type": "code",
   "execution_count": 38,
   "metadata": {},
   "outputs": [
    {
     "name": "stdout",
     "output_type": "stream",
     "text": [
      "Jan\n",
      "Feb\n",
      "Mar\n",
      "Apr\n"
     ]
    }
   ],
   "source": [
    "lst = ['January','February','March','April']\n",
    "for i in lst:\n",
    "    print(i[:3])"
   ]
  },
  {
   "cell_type": "markdown",
   "metadata": {},
   "source": [
    "# 3.21"
   ]
  },
  {
   "cell_type": "code",
   "execution_count": 36,
   "metadata": {},
   "outputs": [
    {
     "name": "stdout",
     "output_type": "stream",
     "text": [
      "Jan\n",
      "Feb\n",
      "Mar\n"
     ]
    }
   ],
   "source": [
    "lst = ['January','February','March']\n",
    "for i in lst:\n",
    "    print(i[:3])"
   ]
  },
  {
   "cell_type": "markdown",
   "metadata": {},
   "source": [
    "# 3.22"
   ]
  },
  {
   "cell_type": "code",
   "execution_count": 39,
   "metadata": {},
   "outputs": [
    {
     "name": "stdout",
     "output_type": "stream",
     "text": [
      "2\n",
      "4\n",
      "6\n",
      "8\n"
     ]
    }
   ],
   "source": [
    "lst = [1,2,3,4,5,6,7,8,9]\n",
    "for i in lst:\n",
    "    if i%2 == 0:\n",
    "        print (i)"
   ]
  },
  {
   "cell_type": "markdown",
   "metadata": {},
   "source": [
    "# 3.23"
   ]
  },
  {
   "cell_type": "code",
   "execution_count": 40,
   "metadata": {},
   "outputs": [
    {
     "name": "stdout",
     "output_type": "stream",
     "text": [
      "4\n",
      "8\n"
     ]
    }
   ],
   "source": [
    "lst = [1,2,3,4,5,6,7,8,9]\n",
    "for i in lst:\n",
    "    if i**2 % 8 == 0:\n",
    "        print (i)"
   ]
  },
  {
   "cell_type": "markdown",
   "metadata": {},
   "source": [
    "# 3.24"
   ]
  },
  {
   "cell_type": "code",
   "execution_count": 41,
   "metadata": {},
   "outputs": [
    {
     "name": "stdout",
     "output_type": "stream",
     "text": [
      "0 1 \n",
      "0 \n",
      "3 4 5 6 \n",
      "1 \n",
      "0 3 \n",
      "5 9 13 17 21 \n"
     ]
    }
   ],
   "source": [
    "#PART A\n",
    "for i in range(0,2):\n",
    "    print(i, end=' ')\n",
    "print(\"\")\n",
    "\n",
    "#PART B\n",
    "for j in range(0,1):\n",
    "     print(j, end=' ')\n",
    "print(\"\")\n",
    "\n",
    "#PART C   \n",
    "for k in range(3,7):\n",
    "     print(k, end=' ')\n",
    "print(\"\")\n",
    "\n",
    "#PART D    \n",
    "for m in range(1,2):\n",
    "     print(m, end=' ')\n",
    "print(\"\")\n",
    "\n",
    "#PART E \n",
    "for n in range(0,4,3):\n",
    "     print(n, end=' ')\n",
    "print(\"\")\n",
    "\n",
    "#PART F   \n",
    "for o in range(5,22,4):\n",
    "     print(o, end=' ')\n",
    "print(\"\")\n"
   ]
  }
 ],
 "metadata": {
  "kernelspec": {
   "display_name": "Python 3",
   "language": "python",
   "name": "python3"
  },
  "language_info": {
   "codemirror_mode": {
    "name": "ipython",
    "version": 3
   },
   "file_extension": ".py",
   "mimetype": "text/x-python",
   "name": "python",
   "nbconvert_exporter": "python",
   "pygments_lexer": "ipython3",
   "version": "3.7.4"
  }
 },
 "nbformat": 4,
 "nbformat_minor": 2
}
