{
 "cells": [
  {
   "cell_type": "markdown",
   "metadata": {},
   "source": [
    "# 3.4"
   ]
  },
  {
   "cell_type": "code",
   "execution_count": 1,
   "metadata": {},
   "outputs": [
    {
     "name": "stdout",
     "output_type": "stream",
     "text": [
      "Enter your login ID : alee\n",
      "USER UNKNOWN\n",
      "Done.\n"
     ]
    }
   ],
   "source": [
    "users = [\"ali\",\"husnain\",\"saad\",\"umer\",\"umair\"]\n",
    "login = input(\"Enter your login ID : \")\n",
    "if login in users :\n",
    "    print(\"You are in!\")\n",
    "else :\n",
    "    print(\"USER UNKNOWN\")\n",
    "print(\"Done.\")"
   ]
  },
  {
   "cell_type": "markdown",
   "metadata": {},
   "source": [
    "# 3.24"
   ]
  },
  {
   "cell_type": "code",
   "execution_count": 2,
   "metadata": {},
   "outputs": [
    {
     "name": "stdout",
     "output_type": "stream",
     "text": [
      "Enter the List : ['cia','secret','mi6','isi','secret']\n",
      "cia\n",
      "mi6\n",
      "isi\n"
     ]
    }
   ],
   "source": [
    "lst = eval(input(\"Enter the List : \"))\n",
    "for i in lst:\n",
    "    if i != 'secret':\n",
    "        print(i)"
   ]
  },
  {
   "cell_type": "markdown",
   "metadata": {},
   "source": [
    "# 3.25"
   ]
  },
  {
   "cell_type": "code",
   "execution_count": 3,
   "metadata": {},
   "outputs": [
    {
     "name": "stdout",
     "output_type": "stream",
     "text": [
      "Enter the list: ['Ellie','Sam','Steve','Owen','Gavin']\n",
      "Ellie\n",
      "Gavin\n"
     ]
    }
   ],
   "source": [
    "lst = eval(input('Enter the list of names : '))\n",
    "letters = ['A','B','C','D','E','F','G','H','I','J','K','L','M']\n",
    "for i in lst:\n",
    "    for j in letters:\n",
    "        if i[0] == j:\n",
    "            print(i)"
   ]
  },
  {
   "cell_type": "markdown",
   "metadata": {},
   "source": [
    "# 3.26"
   ]
  },
  {
   "cell_type": "code",
   "execution_count": 4,
   "metadata": {},
   "outputs": [
    {
     "name": "stdout",
     "output_type": "stream",
     "text": [
      "Enter the list : [3,5,7,9]\n",
      "The first list element is 3\n",
      "The last list element is 9\n"
     ]
    }
   ],
   "source": [
    "lst = eval(input('Enter the list : '))\n",
    "print (\"The first list element is\",lst[0])\n",
    "print(\"The last list element is\",lst[-1])"
   ]
  },
  {
   "cell_type": "markdown",
   "metadata": {},
   "source": [
    "# 3.27"
   ]
  },
  {
   "cell_type": "code",
   "execution_count": 5,
   "metadata": {},
   "outputs": [
    {
     "name": "stdout",
     "output_type": "stream",
     "text": [
      "Enter n : 5\n",
      "0\n",
      "5\n",
      "10\n",
      "15\n"
     ]
    }
   ],
   "source": [
    "n = eval(input(\"Enter n : \"))\n",
    "for i in range(4):\n",
    "    print(n*i)"
   ]
  },
  {
   "cell_type": "markdown",
   "metadata": {},
   "source": [
    "# 3.28"
   ]
  },
  {
   "cell_type": "code",
   "execution_count": 6,
   "metadata": {},
   "outputs": [
    {
     "name": "stdout",
     "output_type": "stream",
     "text": [
      "Enter the number: 3\n",
      "0\n",
      "1\n",
      "4\n"
     ]
    }
   ],
   "source": [
    "num = eval(input('Enter the number: '))\n",
    "for i in range(num):\n",
    "    print(i**2)"
   ]
  },
  {
   "cell_type": "markdown",
   "metadata": {},
   "source": [
    "# 2.29"
   ]
  },
  {
   "cell_type": "code",
   "execution_count": 7,
   "metadata": {},
   "outputs": [
    {
     "name": "stdout",
     "output_type": "stream",
     "text": [
      "Enter the number : 16\n",
      "1\n",
      "2\n",
      "4\n",
      "8\n",
      "16\n"
     ]
    }
   ],
   "source": [
    "num = eval(input(\"Enter the number : \"))\n",
    "for i in range(1,num+1):\n",
    "    if num%i == 0:\n",
    "        print (i)"
   ]
  },
  {
   "cell_type": "markdown",
   "metadata": {},
   "source": [
    "# 3.30"
   ]
  },
  {
   "cell_type": "code",
   "execution_count": 8,
   "metadata": {},
   "outputs": [
    {
     "name": "stdout",
     "output_type": "stream",
     "text": [
      "Enter first number  : 4.5\n",
      "Enter second number : 3\n",
      "Enter third number  : 3\n",
      "Enter forth number  : 3.5\n",
      "Equal\n"
     ]
    }
   ],
   "source": [
    "num1 = eval(input(\"Enter first number  : \"))\n",
    "num2 = eval(input(\"Enter second number : \"))\n",
    "num3 = eval(input(\"Enter third number  : \"))\n",
    "num4 = eval(input(\"Enter forth number  : \"))\n",
    "\n",
    "if (num1+num2+num3)/3 == num4:\n",
    "    print(\"Equal\")"
   ]
  },
  {
   "cell_type": "markdown",
   "metadata": {},
   "source": [
    "# 3.31"
   ]
  },
  {
   "cell_type": "code",
   "execution_count": 9,
   "metadata": {},
   "outputs": [
    {
     "name": "stdout",
     "output_type": "stream",
     "text": [
      "Enter x coordinate: 8\n",
      "Enter y coordinate: -10\n",
      "It is in!\n"
     ]
    }
   ],
   "source": [
    "x = eval(input('Enter x coordinate: '))\n",
    "y = eval(input('Enter y coordinate: '))\n",
    "\n",
    "a = x >= -10 and x <= 10\n",
    "b = y >= -10 and y <= 10\n",
    "\n",
    "if a and b == True:\n",
    "    print('It is in!')"
   ]
  },
  {
   "cell_type": "markdown",
   "metadata": {},
   "source": [
    "# 3.32"
   ]
  },
  {
   "cell_type": "code",
   "execution_count": 10,
   "metadata": {},
   "outputs": [
    {
     "name": "stdout",
     "output_type": "stream",
     "text": [
      "Enter the number: 1234\n",
      "1\n",
      "2\n",
      "3\n",
      "4\n"
     ]
    }
   ],
   "source": [
    "x = int(input('Enter the number: '))\n",
    "print(x // x)\n",
    "print(x - x+2)\n",
    "print(x - x+3)\n",
    "print(x - x+4)"
   ]
  },
  {
   "cell_type": "markdown",
   "metadata": {},
   "source": [
    "# 3.33"
   ]
  },
  {
   "cell_type": "code",
   "execution_count": 12,
   "metadata": {},
   "outputs": [
    {
     "data": {
      "text/plain": [
       "'DNA'"
      ]
     },
     "execution_count": 12,
     "metadata": {},
     "output_type": "execute_result"
    }
   ],
   "source": [
    "def reverse_string(s):\n",
    "    'This function returns the reverse of a string. SYNTAX: reverse_string(s)'\n",
    "    if len(s) == 3:\n",
    "        return s[::-1]\n",
    "reverse_string('AND')"
   ]
  },
  {
   "cell_type": "markdown",
   "metadata": {},
   "source": [
    "# 3.34"
   ]
  },
  {
   "cell_type": "code",
   "execution_count": 15,
   "metadata": {},
   "outputs": [
    {
     "data": {
      "text/plain": [
       "615.0"
      ]
     },
     "execution_count": 15,
     "metadata": {},
     "output_type": "execute_result"
    }
   ],
   "source": [
    "def pay(wage, hours):\n",
    "    'This funtion estimates the weekly wage of a worker. SYNTAX: pay(wage, hours)'\n",
    "    if hours > 40:\n",
    "        return (wage*1.5) * hours\n",
    "    else:\n",
    "        return wage*hours\n",
    "pay(10, 41)"
   ]
  },
  {
   "cell_type": "markdown",
   "metadata": {},
   "source": [
    "# 3.35"
   ]
  },
  {
   "cell_type": "code",
   "execution_count": 16,
   "metadata": {},
   "outputs": [
    {
     "data": {
      "text/plain": [
       "0.03125"
      ]
     },
     "execution_count": 16,
     "metadata": {},
     "output_type": "execute_result"
    }
   ],
   "source": [
    " def prob(n):\n",
    "        'This function returns the probality of having atleast on heads. SYNTAX: prob(n)'\n",
    "    if n > 0:\n",
    "        return 2**-n\n",
    "    \n",
    "prob(5)"
   ]
  },
  {
   "cell_type": "markdown",
   "metadata": {},
   "source": [
    "# 3.36"
   ]
  },
  {
   "cell_type": "code",
   "execution_count": 17,
   "metadata": {},
   "outputs": [
    {
     "data": {
      "text/plain": [
       "321"
      ]
     },
     "execution_count": 17,
     "metadata": {},
     "output_type": "execute_result"
    }
   ],
   "source": [
    "def reverse_int(integer):\n",
    "    'This function returns the reversed form of given integer, SYNTAX: reverse_int(integer)'\n",
    "    reversed_int = 0\n",
    "    while (integer > 0):\n",
    "        remainder = integer % 10\n",
    "        reversed_int = (reversed_int*10) + remainder\n",
    "        integer = integer // 10\n",
    "    return reversed_int\n",
    "reverse_int(123)"
   ]
  },
  {
   "cell_type": "markdown",
   "metadata": {},
   "source": [
    "# 3.37"
   ]
  },
  {
   "cell_type": "code",
   "execution_count": 19,
   "metadata": {},
   "outputs": [
    {
     "name": "stdout",
     "output_type": "stream",
     "text": [
      "The slope is -5.0 and the distance is 10.198039027185569\n"
     ]
    }
   ],
   "source": [
    "from math import sqrt\n",
    "def points(x1, y1, x2, y2):\n",
    "    'This function prints the slope and distance of two points. SYNTAX: points(x1, y1, x2, y2) '\n",
    "    if x2-x1 != 0:\n",
    "        slope = (y2-y1)/(x2-x1)\n",
    "        dis = sqrt((x2-x1)**2 + (y2-y1)**2)\n",
    "        print('The slope is',slope,'and the distance is',dis)\n",
    "    else:\n",
    "        slope = str('infinity')\n",
    "        dis = sqrt((x2-x1)**2 + (y2-y1)**2)\n",
    "        print('The slope is',slope,'and the distance is',dis)\n",
    "\n",
    "\n",
    "points(4, 0, 2, 10)"
   ]
  },
  {
   "cell_type": "markdown",
   "metadata": {},
   "source": [
    "# 3.38"
   ]
  },
  {
   "cell_type": "code",
   "execution_count": 20,
   "metadata": {},
   "outputs": [
    {
     "data": {
      "text/plain": [
       "'Mo'"
      ]
     },
     "execution_count": 20,
     "metadata": {},
     "output_type": "execute_result"
    }
   ],
   "source": [
    "def abbreviation(day):\n",
    "    'This function returns the 2 letter abbereviation of weekday entered. SYNTAX: abbreviation(day) '\n",
    "    return day[0:2]\n",
    "\n",
    "\n",
    "abbreviation('Monday')"
   ]
  },
  {
   "cell_type": "markdown",
   "metadata": {},
   "source": [
    "# 3.39"
   ]
  },
  {
   "cell_type": "code",
   "execution_count": 22,
   "metadata": {},
   "outputs": [
    {
     "data": {
      "text/plain": [
       "True"
      ]
     },
     "execution_count": 22,
     "metadata": {},
     "output_type": "execute_result"
    }
   ],
   "source": [
    "from math import sqrt\n",
    "def collision(x1, y1, r1, x2, y2, r2):\n",
    "    'This function returns whether the two orbs collide or not. SYNTAX: collision(x1, y1, r1, x2, y2, r2):'\n",
    "    dis = sqrt((x2-x1)**2 + (y2-y1)**2)\n",
    "    if dis <= (r1+r2):\n",
    "        return True\n",
    "    else:\n",
    "        return False\n",
    "collision(9, 10, 3, 9, 5, 3)"
   ]
  },
  {
   "cell_type": "markdown",
   "metadata": {},
   "source": [
    "# 3.40"
   ]
  },
  {
   "cell_type": "code",
   "execution_count": 23,
   "metadata": {},
   "outputs": [
    {
     "name": "stdout",
     "output_type": "stream",
     "text": [
      "Eleanor\n",
      "Evelynn\n",
      "Gavin\n"
     ]
    }
   ],
   "source": [
    "def partition(names):\n",
    "    'This function prints selected names of soccer players. SYNTAX : partition(names) '\n",
    "    letters = ['A','B','C','D','E','F','G','H','I','J','K','L','M']\n",
    "    for i in names:\n",
    "        for j in letters:\n",
    "            if i[0] == j:\n",
    "                print(i)\n",
    "partition(['Eleanor','Evelynn','Sammy','Owen','Gavin'])"
   ]
  },
  {
   "cell_type": "markdown",
   "metadata": {},
   "source": [
    "# 3.41"
   ]
  },
  {
   "cell_type": "code",
   "execution_count": 24,
   "metadata": {},
   "outputs": [
    {
     "name": "stdout",
     "output_type": "stream",
     "text": [
      "Tesla, N.\n"
     ]
    }
   ],
   "source": [
    "def lastF(FirstName, LastName):\n",
    "    'This function prints the full name. SYNATX : lastF(FirstName, LastName):'\n",
    "    print(LastName+\",\", FirstName[0]+\".\")\n",
    "    \n",
    "    \n",
    "lastF('Nikolas', 'Tesla')"
   ]
  },
  {
   "cell_type": "markdown",
   "metadata": {},
   "source": [
    "# 3.42"
   ]
  },
  {
   "cell_type": "code",
   "execution_count": 25,
   "metadata": {},
   "outputs": [
    {
     "name": "stdout",
     "output_type": "stream",
     "text": [
      "90.0\n",
      "60.0\n",
      "87.0\n",
      "11.0\n"
     ]
    }
   ],
   "source": [
    "def avg(lst):\n",
    "    'This function prints the average marks of students entered form of list. SYNTAX : avg(lst)'\n",
    "    a = sum(lst[0]) / len(lst[0])\n",
    "    print(a)\n",
    "    \n",
    "    b = sum(lst[1]) / len(lst[1])\n",
    "    print(b)\n",
    "    \n",
    "    c = sum(lst[2]) / len(lst[2])\n",
    "    print(c)\n",
    "    \n",
    "    d = sum(lst[3]) / len(lst[3])\n",
    "    print(d)\n",
    "    \n",
    "    \n",
    "avg([[95, 92, 86, 87], [66, 54], [89, 72, 100], [33, 0, 0]])"
   ]
  },
  {
   "cell_type": "markdown",
   "metadata": {},
   "source": [
    "# 3.43"
   ]
  },
  {
   "cell_type": "code",
   "execution_count": 31,
   "metadata": {},
   "outputs": [
    {
     "data": {
      "text/plain": [
       "False"
      ]
     },
     "execution_count": 31,
     "metadata": {},
     "output_type": "execute_result"
    }
   ],
   "source": [
    "def hit(x1,y1,r,x2,y2):\n",
    "    'This function returns if the hit was on target.SYANTAX :  hit(x1,y1,r,x2,y2) '\n",
    "    D = (x2-x1)**2 + (y2-y1)**2\n",
    "    R = r**2\n",
    "    if D <= R:\n",
    "        return True\n",
    "    return False\n",
    "\n",
    "\n",
    "hit(0,0,3,4,0)"
   ]
  },
  {
   "cell_type": "markdown",
   "metadata": {},
   "source": [
    "# 3.44"
   ]
  },
  {
   "cell_type": "code",
   "execution_count": 30,
   "metadata": {},
   "outputs": [
    {
     "data": {
      "text/plain": [
       "1.0208700000000002"
      ]
     },
     "execution_count": 30,
     "metadata": {},
     "output_type": "execute_result"
    }
   ],
   "source": [
    "def distance(time):\n",
    "    'This function returns distance in km. SYANTAX : distance(time) [in secs]'\n",
    "    vel = 340.29\n",
    "    return (time* vel) / 1000\n",
    "\n",
    "\n",
    "distance(3)"
   ]
  },
  {
   "cell_type": "code",
   "execution_count": null,
   "metadata": {},
   "outputs": [],
   "source": []
  }
 ],
 "metadata": {
  "kernelspec": {
   "display_name": "Python 3",
   "language": "python",
   "name": "python3"
  },
  "language_info": {
   "codemirror_mode": {
    "name": "ipython",
    "version": 3
   },
   "file_extension": ".py",
   "mimetype": "text/x-python",
   "name": "python",
   "nbconvert_exporter": "python",
   "pygments_lexer": "ipython3",
   "version": "3.7.4"
  }
 },
 "nbformat": 4,
 "nbformat_minor": 2
}
